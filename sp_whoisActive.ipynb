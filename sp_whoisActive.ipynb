EXEC sp_WhoIsActive 
        @find_block_leaders = 1, 
        @sort_order = '[blocked_session_count] DESC'
        -- @filter  = '',
        -- @filter_type  = 'session', 
        -- @not_filter  = '', 
        -- @not_filter_type  = 'session', 
        -- @show_own_spid  = 0, 
        -- @show_system_spids  = 0, 
        -- @show_sleeping_spids  = 1, 
        -- @get_full_inner_text  = 0,
        -- @get_plans  = 0, 
        -- @get_outer_command  = 0, 
        -- @get_transaction_info  = 0, 
        -- @get_task_info  = 1, 
        -- @get_locks  = 0, 
        -- @get_avg_time  = 0, 
        -- @get_additional_info  = 0,  
        -- @delta_interval  = 0, 
        -- @output_column_list  = '[dd%][session_id][sql_text][sql_command][login_name][wait_info][tasks][tran_log%][cpu%][temp%][block%][reads%][writes%][context%][physical%][query_plan][locks][%]', 
        -- @format_output  = 1, 
        -- @destination_table  = '', 
        -- @return_schema  = 0, 
        -- @help  = 0

        -- for more info: http://whoisactive.com/docs/
        